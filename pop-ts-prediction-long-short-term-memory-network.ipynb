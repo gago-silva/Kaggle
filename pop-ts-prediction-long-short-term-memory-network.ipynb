{
 "cells": [
  {
   "cell_type": "code",
   "execution_count": 1,
   "metadata": {
    "_cell_guid": "b1076dfc-b9ad-4769-8c92-a6c4dae69d19",
    "_uuid": "8f2839f25d086af736a60e9eeb907d3b93b6e0e5"
   },
   "outputs": [
    {
     "name": "stdout",
     "output_type": "stream",
     "text": [
      "/kaggle/input/population-time-series-data/POP.csv\n",
      "/kaggle/input/population-time-series-data/POPH.csv\n",
      "/kaggle/input/population-time-series-data/national-population_metadata.json\n",
      "/kaggle/input/population-time-series-data/total-population-all-ages-including-armed-forces-overseas_metadata.json\n"
     ]
    }
   ],
   "source": [
    "# This Python 3 environment comes with many helpful analytics libraries installed\n",
    "# It is defined by the kaggle/python docker image: https://github.com/kaggle/docker-python\n",
    "# For example, here's several helpful packages to load in \n",
    "\n",
    "import numpy as np # linear algebra\n",
    "import pandas as pd # data processing, CSV file I/O (e.g. pd.read_csv)\n",
    "\n",
    "# Input data files are available in the \"../input/\" directory.\n",
    "# For example, running this (by clicking run or pressing Shift+Enter) will list all files under the input directory\n",
    "\n",
    "import os\n",
    "for dirname, _, filenames in os.walk('/kaggle/input'):\n",
    "    for filename in filenames:\n",
    "        print(os.path.join(dirname, filename))\n",
    "\n",
    "# Any results you write to the current directory are saved as output."
   ]
  },
  {
   "cell_type": "markdown",
   "metadata": {},
   "source": [
    "# Packages/Libraries to load "
   ]
  },
  {
   "cell_type": "code",
   "execution_count": 2,
   "metadata": {},
   "outputs": [
    {
     "name": "stderr",
     "output_type": "stream",
     "text": [
      "Using TensorFlow backend.\n",
      "/opt/conda/lib/python3.6/site-packages/tensorflow/python/framework/dtypes.py:516: FutureWarning: Passing (type, 1) or '1type' as a synonym of type is deprecated; in a future version of numpy, it will be understood as (type, (1,)) / '(1,)type'.\n",
      "  _np_qint8 = np.dtype([(\"qint8\", np.int8, 1)])\n",
      "/opt/conda/lib/python3.6/site-packages/tensorflow/python/framework/dtypes.py:517: FutureWarning: Passing (type, 1) or '1type' as a synonym of type is deprecated; in a future version of numpy, it will be understood as (type, (1,)) / '(1,)type'.\n",
      "  _np_quint8 = np.dtype([(\"quint8\", np.uint8, 1)])\n",
      "/opt/conda/lib/python3.6/site-packages/tensorflow/python/framework/dtypes.py:518: FutureWarning: Passing (type, 1) or '1type' as a synonym of type is deprecated; in a future version of numpy, it will be understood as (type, (1,)) / '(1,)type'.\n",
      "  _np_qint16 = np.dtype([(\"qint16\", np.int16, 1)])\n",
      "/opt/conda/lib/python3.6/site-packages/tensorflow/python/framework/dtypes.py:519: FutureWarning: Passing (type, 1) or '1type' as a synonym of type is deprecated; in a future version of numpy, it will be understood as (type, (1,)) / '(1,)type'.\n",
      "  _np_quint16 = np.dtype([(\"quint16\", np.uint16, 1)])\n",
      "/opt/conda/lib/python3.6/site-packages/tensorflow/python/framework/dtypes.py:520: FutureWarning: Passing (type, 1) or '1type' as a synonym of type is deprecated; in a future version of numpy, it will be understood as (type, (1,)) / '(1,)type'.\n",
      "  _np_qint32 = np.dtype([(\"qint32\", np.int32, 1)])\n",
      "/opt/conda/lib/python3.6/site-packages/tensorflow/python/framework/dtypes.py:525: FutureWarning: Passing (type, 1) or '1type' as a synonym of type is deprecated; in a future version of numpy, it will be understood as (type, (1,)) / '(1,)type'.\n",
      "  np_resource = np.dtype([(\"resource\", np.ubyte, 1)])\n",
      "/opt/conda/lib/python3.6/site-packages/tensorboard/compat/tensorflow_stub/dtypes.py:541: FutureWarning: Passing (type, 1) or '1type' as a synonym of type is deprecated; in a future version of numpy, it will be understood as (type, (1,)) / '(1,)type'.\n",
      "  _np_qint8 = np.dtype([(\"qint8\", np.int8, 1)])\n",
      "/opt/conda/lib/python3.6/site-packages/tensorboard/compat/tensorflow_stub/dtypes.py:542: FutureWarning: Passing (type, 1) or '1type' as a synonym of type is deprecated; in a future version of numpy, it will be understood as (type, (1,)) / '(1,)type'.\n",
      "  _np_quint8 = np.dtype([(\"quint8\", np.uint8, 1)])\n",
      "/opt/conda/lib/python3.6/site-packages/tensorboard/compat/tensorflow_stub/dtypes.py:543: FutureWarning: Passing (type, 1) or '1type' as a synonym of type is deprecated; in a future version of numpy, it will be understood as (type, (1,)) / '(1,)type'.\n",
      "  _np_qint16 = np.dtype([(\"qint16\", np.int16, 1)])\n",
      "/opt/conda/lib/python3.6/site-packages/tensorboard/compat/tensorflow_stub/dtypes.py:544: FutureWarning: Passing (type, 1) or '1type' as a synonym of type is deprecated; in a future version of numpy, it will be understood as (type, (1,)) / '(1,)type'.\n",
      "  _np_quint16 = np.dtype([(\"quint16\", np.uint16, 1)])\n",
      "/opt/conda/lib/python3.6/site-packages/tensorboard/compat/tensorflow_stub/dtypes.py:545: FutureWarning: Passing (type, 1) or '1type' as a synonym of type is deprecated; in a future version of numpy, it will be understood as (type, (1,)) / '(1,)type'.\n",
      "  _np_qint32 = np.dtype([(\"qint32\", np.int32, 1)])\n",
      "/opt/conda/lib/python3.6/site-packages/tensorboard/compat/tensorflow_stub/dtypes.py:550: FutureWarning: Passing (type, 1) or '1type' as a synonym of type is deprecated; in a future version of numpy, it will be understood as (type, (1,)) / '(1,)type'.\n",
      "  np_resource = np.dtype([(\"resource\", np.ubyte, 1)])\n"
     ]
    }
   ],
   "source": [
    "import matplotlib.pyplot as plt\n",
    "import math\n",
    "from keras.models import Sequential\n",
    "from keras.layers import Dense\n",
    "from keras.layers import LSTM\n",
    "from sklearn.preprocessing import MinMaxScaler\n",
    "from sklearn.metrics import mean_squared_error"
   ]
  },
  {
   "cell_type": "markdown",
   "metadata": {},
   "source": [
    "# Define the task\n",
    "The task is to predict the monthly Population. \n",
    "\n",
    "The data ranges from January 1952 to December 2019, with **816 observations."
   ]
  },
  {
   "cell_type": "code",
   "execution_count": 3,
   "metadata": {
    "_cell_guid": "79c7e3d0-c299-4dcb-8224-4455121ee9b0",
    "_uuid": "d629ff2d2480ee46fbb7e2d37f6b5fab8052498a"
   },
   "outputs": [
    {
     "name": "stdout",
     "output_type": "stream",
     "text": [
      "(816, 4)\n"
     ]
    }
   ],
   "source": [
    "df_POP = pd.read_csv('/kaggle/input/population-time-series-data/POP.csv', delimiter=',')\n",
    "df_POP.dataframeName = 'POP.csv'\n",
    "print(df_POP.shape)"
   ]
  },
  {
   "cell_type": "code",
   "execution_count": 4,
   "metadata": {},
   "outputs": [
    {
     "data": {
      "text/html": [
       "<div>\n",
       "<style scoped>\n",
       "    .dataframe tbody tr th:only-of-type {\n",
       "        vertical-align: middle;\n",
       "    }\n",
       "\n",
       "    .dataframe tbody tr th {\n",
       "        vertical-align: top;\n",
       "    }\n",
       "\n",
       "    .dataframe thead th {\n",
       "        text-align: right;\n",
       "    }\n",
       "</style>\n",
       "<table border=\"1\" class=\"dataframe\">\n",
       "  <thead>\n",
       "    <tr style=\"text-align: right;\">\n",
       "      <th></th>\n",
       "      <th>date</th>\n",
       "      <th>value</th>\n",
       "      <th>realtime_start</th>\n",
       "      <th>realtime_end</th>\n",
       "    </tr>\n",
       "  </thead>\n",
       "  <tbody>\n",
       "    <tr>\n",
       "      <th>0</th>\n",
       "      <td>1952-01-01</td>\n",
       "      <td>156309.0</td>\n",
       "      <td>2019-08-23</td>\n",
       "      <td>2019-08-23</td>\n",
       "    </tr>\n",
       "    <tr>\n",
       "      <th>1</th>\n",
       "      <td>1952-02-01</td>\n",
       "      <td>156527.0</td>\n",
       "      <td>2019-08-23</td>\n",
       "      <td>2019-08-23</td>\n",
       "    </tr>\n",
       "    <tr>\n",
       "      <th>2</th>\n",
       "      <td>1952-03-01</td>\n",
       "      <td>156731.0</td>\n",
       "      <td>2019-08-23</td>\n",
       "      <td>2019-08-23</td>\n",
       "    </tr>\n",
       "    <tr>\n",
       "      <th>3</th>\n",
       "      <td>1952-04-01</td>\n",
       "      <td>156943.0</td>\n",
       "      <td>2019-08-23</td>\n",
       "      <td>2019-08-23</td>\n",
       "    </tr>\n",
       "    <tr>\n",
       "      <th>4</th>\n",
       "      <td>1952-05-01</td>\n",
       "      <td>157140.0</td>\n",
       "      <td>2019-08-23</td>\n",
       "      <td>2019-08-23</td>\n",
       "    </tr>\n",
       "  </tbody>\n",
       "</table>\n",
       "</div>"
      ],
      "text/plain": [
       "         date     value realtime_start realtime_end\n",
       "0  1952-01-01  156309.0     2019-08-23   2019-08-23\n",
       "1  1952-02-01  156527.0     2019-08-23   2019-08-23\n",
       "2  1952-03-01  156731.0     2019-08-23   2019-08-23\n",
       "3  1952-04-01  156943.0     2019-08-23   2019-08-23\n",
       "4  1952-05-01  157140.0     2019-08-23   2019-08-23"
      ]
     },
     "execution_count": 4,
     "metadata": {},
     "output_type": "execute_result"
    }
   ],
   "source": [
    "df_POP.head(5)"
   ]
  },
  {
   "cell_type": "code",
   "execution_count": 5,
   "metadata": {},
   "outputs": [
    {
     "data": {
      "text/html": [
       "<div>\n",
       "<style scoped>\n",
       "    .dataframe tbody tr th:only-of-type {\n",
       "        vertical-align: middle;\n",
       "    }\n",
       "\n",
       "    .dataframe tbody tr th {\n",
       "        vertical-align: top;\n",
       "    }\n",
       "\n",
       "    .dataframe thead th {\n",
       "        text-align: right;\n",
       "    }\n",
       "</style>\n",
       "<table border=\"1\" class=\"dataframe\">\n",
       "  <thead>\n",
       "    <tr style=\"text-align: right;\">\n",
       "      <th></th>\n",
       "      <th>date</th>\n",
       "      <th>value</th>\n",
       "      <th>realtime_start</th>\n",
       "      <th>realtime_end</th>\n",
       "    </tr>\n",
       "  </thead>\n",
       "  <tbody>\n",
       "    <tr>\n",
       "      <th>811</th>\n",
       "      <td>2019-08-01</td>\n",
       "      <td>329591.333</td>\n",
       "      <td>2019-08-23</td>\n",
       "      <td>2019-08-23</td>\n",
       "    </tr>\n",
       "    <tr>\n",
       "      <th>812</th>\n",
       "      <td>2019-09-01</td>\n",
       "      <td>329785.872</td>\n",
       "      <td>2019-08-23</td>\n",
       "      <td>2019-08-23</td>\n",
       "    </tr>\n",
       "    <tr>\n",
       "      <th>813</th>\n",
       "      <td>2019-10-01</td>\n",
       "      <td>329982.035</td>\n",
       "      <td>2019-08-23</td>\n",
       "      <td>2019-08-23</td>\n",
       "    </tr>\n",
       "    <tr>\n",
       "      <th>814</th>\n",
       "      <td>2019-11-01</td>\n",
       "      <td>330154.949</td>\n",
       "      <td>2019-08-23</td>\n",
       "      <td>2019-08-23</td>\n",
       "    </tr>\n",
       "    <tr>\n",
       "      <th>815</th>\n",
       "      <td>2019-12-01</td>\n",
       "      <td>330309.946</td>\n",
       "      <td>2019-08-23</td>\n",
       "      <td>2019-08-23</td>\n",
       "    </tr>\n",
       "  </tbody>\n",
       "</table>\n",
       "</div>"
      ],
      "text/plain": [
       "           date       value realtime_start realtime_end\n",
       "811  2019-08-01  329591.333     2019-08-23   2019-08-23\n",
       "812  2019-09-01  329785.872     2019-08-23   2019-08-23\n",
       "813  2019-10-01  329982.035     2019-08-23   2019-08-23\n",
       "814  2019-11-01  330154.949     2019-08-23   2019-08-23\n",
       "815  2019-12-01  330309.946     2019-08-23   2019-08-23"
      ]
     },
     "execution_count": 5,
     "metadata": {},
     "output_type": "execute_result"
    }
   ],
   "source": [
    "df_POP.tail(5)"
   ]
  },
  {
   "cell_type": "markdown",
   "metadata": {},
   "source": [
    "## Plot the time series"
   ]
  },
  {
   "cell_type": "code",
   "execution_count": 6,
   "metadata": {},
   "outputs": [
    {
     "data": {
      "image/png": "[encoded data removed]",
      "text/plain": [
       "<Figure size 432x288 with 1 Axes>"
      ]
     },
     "metadata": {
      "needs_background": "light"
     },
     "output_type": "display_data"
    }
   ],
   "source": [
    "plt.title('Monthly Population TS')\n",
    "plt.plot(df_POP['value'])\n",
    "plt.show()"
   ]
  },
  {
   "cell_type": "markdown",
   "metadata": {},
   "source": [
    "Converting Date to pandas DateTime for easier plotting of the Population TS data."
   ]
  },
  {
   "cell_type": "code",
   "execution_count": 7,
   "metadata": {},
   "outputs": [],
   "source": [
    "df_POP['date']=pd.to_datetime(df_POP['date'])"
   ]
  },
  {
   "cell_type": "code",
   "execution_count": 8,
   "metadata": {},
   "outputs": [
    {
     "data": {
      "image/png": "[encoded data removed]",
      "text/plain": [
       "<Figure size 432x288 with 1 Axes>"
      ]
     },
     "metadata": {
      "needs_background": "light"
     },
     "output_type": "display_data"
    }
   ],
   "source": [
    "plt.title('Monthly Population TS')\n",
    "plt.plot(df_POP['date'],df_POP['value'])\n",
    "plt.show()"
   ]
  },
  {
   "cell_type": "markdown",
   "metadata": {},
   "source": [
    "# Long Short-Term Memory network Network for Regression\n",
    "\n",
    "Task: Given the Population number this month, what is the Population next month?\n",
    "\n",
    "A function is used to convert the single column TS into a two-column dataset: \n",
    "* the first column containing this month’s (t) population count\n",
    "* the second column containing next month’s (t+1) populations count, to be predicted.\n",
    "\n",
    "> This notebook follows the Deep Learning for Time Series tutorial from Jason Brownlee (July 21, 2016). Link: https://machinelearningmastery.com/time-series-prediction-lstm-recurrent-neural-networks-python-keras/\n"
   ]
  },
  {
   "cell_type": "code",
   "execution_count": 9,
   "metadata": {},
   "outputs": [],
   "source": [
    "# random seed for reproducibility\n",
    "np.random.seed(5)"
   ]
  },
  {
   "cell_type": "code",
   "execution_count": 10,
   "metadata": {},
   "outputs": [],
   "source": [
    "# reshape the dataset\n",
    "dataset=np.array(df_POP['value'])\n",
    "dataset=dataset.reshape(-1,1)"
   ]
  },
  {
   "cell_type": "markdown",
   "metadata": {},
   "source": [
    "## Step 1 :  normalize the dataset"
   ]
  },
  {
   "cell_type": "code",
   "execution_count": 11,
   "metadata": {},
   "outputs": [],
   "source": [
    "scaler = MinMaxScaler(feature_range=(0, 1))\n",
    "dataset = scaler.fit_transform(dataset)"
   ]
  },
  {
   "cell_type": "markdown",
   "metadata": {},
   "source": [
    "## Step 2 : Split the dataset into train and test sets"
   ]
  },
  {
   "cell_type": "code",
   "execution_count": 12,
   "metadata": {},
   "outputs": [
    {
     "name": "stdout",
     "output_type": "stream",
     "text": [
      "546 270\n"
     ]
    }
   ],
   "source": [
    "train_size = int(len(dataset) * 0.67)\n",
    "test_size = len(dataset) - train_size\n",
    "train, test = dataset[0:train_size,:], dataset[train_size:len(dataset),:]\n",
    "print(len(train), len(test))"
   ]
  },
  {
   "cell_type": "markdown",
   "metadata": {},
   "source": [
    "## Step 3 : reshape the train and test sets to 2 columns with t & t+1\n"
   ]
  },
  {
   "cell_type": "code",
   "execution_count": 13,
   "metadata": {},
   "outputs": [],
   "source": [
    "# convert an array of values into a dataset matrix\n",
    "def create_dataset(dataset, look_back=1):\n",
    "\tdataX, dataY = [], []\n",
    "\tfor i in range(len(dataset)-look_back-1):\n",
    "\t\ta = dataset[i:(i+look_back), 0]\n",
    "\t\tdataX.append(a)\n",
    "\t\tdataY.append(dataset[i + look_back, 0])\n",
    "\treturn np.array(dataX), np.array(dataY)"
   ]
  },
  {
   "cell_type": "code",
   "execution_count": 14,
   "metadata": {},
   "outputs": [],
   "source": [
    "# reshape into X=t and Y=t+1\n",
    "look_back = 1\n",
    "trainX, trainY = create_dataset(train, look_back)\n",
    "testX, testY = create_dataset(test, look_back)"
   ]
  },
  {
   "cell_type": "code",
   "execution_count": 15,
   "metadata": {},
   "outputs": [],
   "source": [
    "# reshape input to [samples, time steps, features]\n",
    "trainX = np.reshape(trainX, (trainX.shape[0], 1, trainX.shape[1]))\n",
    "testX = np.reshape(testX, (testX.shape[0], 1, testX.shape[1]))"
   ]
  },
  {
   "cell_type": "markdown",
   "metadata": {},
   "source": [
    "## Step 4 : create and fit the Long Short-Term Memory network"
   ]
  },
  {
   "cell_type": "code",
   "execution_count": 16,
   "metadata": {},
   "outputs": [
    {
     "name": "stdout",
     "output_type": "stream",
     "text": [
      "Epoch 1/100\n",
      " - 2s - loss: 0.0685\n",
      "Epoch 2/100\n",
      " - 1s - loss: 0.0268\n",
      "Epoch 3/100\n",
      " - 1s - loss: 0.0168\n",
      "Epoch 4/100\n",
      " - 1s - loss: 0.0079\n",
      "Epoch 5/100\n",
      " - 1s - loss: 0.0022\n",
      "Epoch 6/100\n",
      " - 1s - loss: 3.5169e-04\n",
      "Epoch 7/100\n",
      " - 1s - loss: 1.3706e-04\n",
      "Epoch 8/100\n",
      " - 1s - loss: 1.2169e-04\n",
      "Epoch 9/100\n",
      " - 1s - loss: 1.0875e-04\n",
      "Epoch 10/100\n",
      " - 1s - loss: 9.5305e-05\n",
      "Epoch 11/100\n",
      " - 1s - loss: 7.7700e-05\n",
      "Epoch 12/100\n",
      " - 1s - loss: 6.5424e-05\n",
      "Epoch 13/100\n",
      " - 1s - loss: 4.9810e-05\n",
      "Epoch 14/100\n",
      " - 1s - loss: 3.7086e-05\n",
      "Epoch 15/100\n",
      " - 1s - loss: 2.4508e-05\n",
      "Epoch 16/100\n",
      " - 1s - loss: 1.5720e-05\n",
      "Epoch 17/100\n",
      " - 1s - loss: 1.0499e-05\n",
      "Epoch 18/100\n",
      " - 1s - loss: 6.6732e-06\n",
      "Epoch 19/100\n",
      " - 1s - loss: 5.7272e-06\n",
      "Epoch 20/100\n",
      " - 1s - loss: 5.0378e-06\n",
      "Epoch 21/100\n",
      " - 1s - loss: 5.6401e-06\n",
      "Epoch 22/100\n",
      " - 1s - loss: 5.0012e-06\n",
      "Epoch 23/100\n",
      " - 1s - loss: 6.0639e-06\n",
      "Epoch 24/100\n",
      " - 1s - loss: 5.4809e-06\n",
      "Epoch 25/100\n",
      " - 1s - loss: 5.1489e-06\n",
      "Epoch 26/100\n",
      " - 1s - loss: 5.9911e-06\n",
      "Epoch 27/100\n",
      " - 1s - loss: 5.5525e-06\n",
      "Epoch 28/100\n",
      " - 1s - loss: 5.3802e-06\n",
      "Epoch 29/100\n",
      " - 1s - loss: 5.3313e-06\n",
      "Epoch 30/100\n",
      " - 1s - loss: 5.3508e-06\n",
      "Epoch 31/100\n",
      " - 1s - loss: 5.0999e-06\n",
      "Epoch 32/100\n",
      " - 1s - loss: 5.1719e-06\n",
      "Epoch 33/100\n",
      " - 1s - loss: 5.4054e-06\n",
      "Epoch 34/100\n",
      " - 1s - loss: 5.2982e-06\n",
      "Epoch 35/100\n",
      " - 1s - loss: 4.7775e-06\n",
      "Epoch 36/100\n",
      " - 1s - loss: 4.9238e-06\n",
      "Epoch 37/100\n",
      " - 1s - loss: 5.2258e-06\n",
      "Epoch 38/100\n",
      " - 1s - loss: 4.7772e-06\n",
      "Epoch 39/100\n",
      " - 1s - loss: 4.9224e-06\n",
      "Epoch 40/100\n",
      " - 1s - loss: 4.6960e-06\n",
      "Epoch 41/100\n",
      " - 1s - loss: 4.5643e-06\n",
      "Epoch 42/100\n",
      " - 1s - loss: 5.0600e-06\n",
      "Epoch 43/100\n",
      " - 1s - loss: 4.5529e-06\n",
      "Epoch 44/100\n",
      " - 1s - loss: 5.3798e-06\n",
      "Epoch 45/100\n",
      " - 1s - loss: 4.7652e-06\n",
      "Epoch 46/100\n",
      " - 1s - loss: 4.6835e-06\n",
      "Epoch 47/100\n",
      " - 1s - loss: 3.9849e-06\n",
      "Epoch 48/100\n",
      " - 1s - loss: 4.9568e-06\n",
      "Epoch 49/100\n",
      " - 1s - loss: 4.3018e-06\n",
      "Epoch 50/100\n",
      " - 1s - loss: 4.1522e-06\n",
      "Epoch 51/100\n",
      " - 1s - loss: 4.0078e-06\n",
      "Epoch 52/100\n",
      " - 1s - loss: 5.0979e-06\n",
      "Epoch 53/100\n",
      " - 1s - loss: 4.2961e-06\n",
      "Epoch 54/100\n",
      " - 1s - loss: 4.2458e-06\n",
      "Epoch 55/100\n",
      " - 1s - loss: 4.3757e-06\n",
      "Epoch 56/100\n",
      " - 1s - loss: 4.2785e-06\n",
      "Epoch 57/100\n",
      " - 1s - loss: 3.7904e-06\n",
      "Epoch 58/100\n",
      " - 1s - loss: 3.5453e-06\n",
      "Epoch 59/100\n",
      " - 1s - loss: 3.7718e-06\n",
      "Epoch 60/100\n",
      " - 1s - loss: 4.2577e-06\n",
      "Epoch 61/100\n",
      " - 1s - loss: 4.2287e-06\n",
      "Epoch 62/100\n",
      " - 1s - loss: 4.1658e-06\n",
      "Epoch 63/100\n",
      " - 1s - loss: 3.8363e-06\n",
      "Epoch 64/100\n",
      " - 1s - loss: 4.4667e-06\n",
      "Epoch 65/100\n",
      " - 1s - loss: 3.6075e-06\n",
      "Epoch 66/100\n",
      " - 1s - loss: 4.0823e-06\n",
      "Epoch 67/100\n",
      " - 1s - loss: 3.6053e-06\n",
      "Epoch 68/100\n",
      " - 1s - loss: 3.9758e-06\n",
      "Epoch 69/100\n",
      " - 1s - loss: 3.8811e-06\n",
      "Epoch 70/100\n",
      " - 1s - loss: 3.1123e-06\n",
      "Epoch 71/100\n",
      " - 1s - loss: 3.5878e-06\n",
      "Epoch 72/100\n",
      " - 1s - loss: 3.5472e-06\n",
      "Epoch 73/100\n",
      " - 1s - loss: 3.1218e-06\n",
      "Epoch 74/100\n",
      " - 1s - loss: 3.7816e-06\n",
      "Epoch 75/100\n",
      " - 1s - loss: 3.2972e-06\n",
      "Epoch 76/100\n",
      " - 1s - loss: 3.4534e-06\n",
      "Epoch 77/100\n",
      " - 1s - loss: 3.1650e-06\n",
      "Epoch 78/100\n",
      " - 1s - loss: 3.2398e-06\n",
      "Epoch 79/100\n",
      " - 1s - loss: 3.4049e-06\n",
      "Epoch 80/100\n",
      " - 1s - loss: 3.6169e-06\n",
      "Epoch 81/100\n",
      " - 1s - loss: 3.3308e-06\n",
      "Epoch 82/100\n",
      " - 1s - loss: 3.0213e-06\n",
      "Epoch 83/100\n",
      " - 1s - loss: 3.4394e-06\n",
      "Epoch 84/100\n",
      " - 1s - loss: 3.1396e-06\n",
      "Epoch 85/100\n",
      " - 1s - loss: 3.8439e-06\n",
      "Epoch 86/100\n",
      " - 1s - loss: 2.5603e-06\n",
      "Epoch 87/100\n",
      " - 1s - loss: 2.6507e-06\n",
      "Epoch 88/100\n",
      " - 1s - loss: 2.5216e-06\n",
      "Epoch 89/100\n",
      " - 1s - loss: 2.9011e-06\n",
      "Epoch 90/100\n",
      " - 1s - loss: 2.7824e-06\n",
      "Epoch 91/100\n",
      " - 1s - loss: 2.4713e-06\n",
      "Epoch 92/100\n",
      " - 1s - loss: 2.1807e-06\n",
      "Epoch 93/100\n",
      " - 1s - loss: 2.2130e-06\n",
      "Epoch 94/100\n",
      " - 1s - loss: 2.3273e-06\n",
      "Epoch 95/100\n",
      " - 1s - loss: 2.6025e-06\n",
      "Epoch 96/100\n",
      " - 1s - loss: 2.3592e-06\n",
      "Epoch 97/100\n",
      " - 1s - loss: 2.2251e-06\n",
      "Epoch 98/100\n",
      " - 1s - loss: 2.0017e-06\n",
      "Epoch 99/100\n",
      " - 1s - loss: 2.1467e-06\n",
      "Epoch 100/100\n",
      " - 1s - loss: 2.0531e-06\n"
     ]
    },
    {
     "data": {
      "text/plain": [
       "<keras.callbacks.History at 0x7f8132153780>"
      ]
     },
     "execution_count": 16,
     "metadata": {},
     "output_type": "execute_result"
    }
   ],
   "source": [
    "model = Sequential()\n",
    "model.add(LSTM(4, input_shape=(1, look_back)))\n",
    "model.add(Dense(1))\n",
    "model.compile(loss='mean_squared_error', optimizer='adam')\n",
    "model.fit(trainX, trainY, epochs=100, batch_size=1, verbose=2)"
   ]
  },
  {
   "cell_type": "markdown",
   "metadata": {},
   "source": [
    "## Step 5 : Predictions & RMSE calculation"
   ]
  },
  {
   "cell_type": "code",
   "execution_count": 17,
   "metadata": {},
   "outputs": [
    {
     "name": "stdout",
     "output_type": "stream",
     "text": [
      "Train Score: 169.97 RMSE\n",
      "Test Score: 2512.20 RMSE\n"
     ]
    }
   ],
   "source": [
    "# make predictions\n",
    "trainPredict = model.predict(trainX)\n",
    "testPredict = model.predict(testX)\n",
    "# invert predictions\n",
    "trainPredict = scaler.inverse_transform(trainPredict)\n",
    "trainY = scaler.inverse_transform([trainY])\n",
    "testPredict = scaler.inverse_transform(testPredict)\n",
    "testY = scaler.inverse_transform([testY])\n",
    "# calculate root mean squared error\n",
    "trainScore = math.sqrt(mean_squared_error(trainY[0], trainPredict[:,0]))\n",
    "print('Train Score: %.2f RMSE' % (trainScore))\n",
    "testScore = math.sqrt(mean_squared_error(testY[0], testPredict[:,0]))\n",
    "print('Test Score: %.2f RMSE' % (testScore))"
   ]
  },
  {
   "cell_type": "markdown",
   "metadata": {},
   "source": [
    "## Step 6 : Plot of the population predictions\n",
    "\n",
    "Original dataset in blue\n",
    "\n",
    "Predictions for the training dataset in green\n",
    "\n",
    "Predictions on the unseen test dataset in red\n"
   ]
  },
  {
   "cell_type": "code",
   "execution_count": 18,
   "metadata": {},
   "outputs": [
    {
     "data": {
      "image/png": "[encoded data removed]",
      "text/plain": [
       "<Figure size 432x288 with 1 Axes>"
      ]
     },
     "metadata": {
      "needs_background": "light"
     },
     "output_type": "display_data"
    }
   ],
   "source": [
    "# shift train predictions for plotting\n",
    "trainPredictPlot = np.empty_like(dataset)\n",
    "trainPredictPlot[:, :] = np.nan\n",
    "trainPredictPlot[look_back:len(trainPredict)+look_back, :] = trainPredict\n",
    "# shift test predictions for plotting\n",
    "testPredictPlot = np.empty_like(dataset)\n",
    "testPredictPlot[:, :] = np.nan\n",
    "testPredictPlot[len(trainPredict)+(look_back*2)+1:len(dataset)-1, :] = testPredict\n",
    "# plot baseline and predictions\n",
    "plt.plot(df_POP['date'],scaler.inverse_transform(dataset),color='blue')\n",
    "plt.plot(df_POP['date'],trainPredictPlot,color='green')\n",
    "plt.plot(df_POP['date'],testPredictPlot,color='red')\n",
    "plt.show()"
   ]
  },
  {
   "cell_type": "code",
   "execution_count": 19,
   "metadata": {},
   "outputs": [
    {
     "data": {
      "image/png": "[encoded data removed]",
      "text/plain": [
       "<Figure size 432x288 with 1 Axes>"
      ]
     },
     "metadata": {
      "needs_background": "light"
     },
     "output_type": "display_data"
    }
   ],
   "source": [
    "# plot baseline and predictions between 1994 & 2010\n",
    "plt.plot(df_POP['date'][500:700],(scaler.inverse_transform(dataset))[500:700],color='blue')\n",
    "plt.plot(df_POP['date'][500:700],trainPredictPlot[500:700],color='green')\n",
    "plt.plot(df_POP['date'][500:700],testPredictPlot[500:700],color='red')\n",
    "plt.show()"
   ]
  }
 ],
 "metadata": {
  "kernelspec": {
   "display_name": "Python 3",
   "language": "python",
   "name": "python3"
  },
  "language_info": {
   "codemirror_mode": {
    "name": "ipython",
    "version": 3
   },
   "file_extension": ".py",
   "mimetype": "text/x-python",
   "name": "python",
   "nbconvert_exporter": "python",
   "pygments_lexer": "ipython3",
   "version": "3.6.6"
  }
 },
 "nbformat": 4,
 "nbformat_minor": 1
}
